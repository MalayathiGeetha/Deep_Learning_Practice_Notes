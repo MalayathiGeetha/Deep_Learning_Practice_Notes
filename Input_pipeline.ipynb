{
  "nbformat": 4,
  "nbformat_minor": 0,
  "metadata": {
    "colab": {
      "provenance": [],
      "authorship_tag": "ABX9TyP2o7b4seDUyYdKr5tc6phN",
      "include_colab_link": true
    },
    "kernelspec": {
      "name": "python3",
      "display_name": "Python 3"
    },
    "language_info": {
      "name": "python"
    }
  },
  "cells": [
    {
      "cell_type": "markdown",
      "metadata": {
        "id": "view-in-github",
        "colab_type": "text"
      },
      "source": [
        "<a href=\"https://colab.research.google.com/github/MalayathiGeetha/Deep_Learning_Practice_Notes/blob/main/Input_pipeline.ipynb\" target=\"_parent\"><img src=\"https://colab.research.google.com/assets/colab-badge.svg\" alt=\"Open In Colab\"/></a>"
      ]
    },
    {
      "cell_type": "code",
      "execution_count": 1,
      "metadata": {
        "id": "AwbH25fHKu2F"
      },
      "outputs": [],
      "source": [
        "import tensorflow as tf"
      ]
    },
    {
      "cell_type": "code",
      "source": [
        "daily_sales_numbers = [21, 22, -108, 31, -1, 32, 34,31]\n",
        "\n",
        "tf_dataset = tf.data.Dataset.from_tensor_slices(daily_sales_numbers)\n",
        "tf_dataset"
      ],
      "metadata": {
        "colab": {
          "base_uri": "https://localhost:8080/"
        },
        "id": "V67c1qG9K2kd",
        "outputId": "35ff0abb-4805-4307-9d2a-dcf3ef9b830a"
      },
      "execution_count": 2,
      "outputs": [
        {
          "output_type": "execute_result",
          "data": {
            "text/plain": [
              "<_TensorSliceDataset element_spec=TensorSpec(shape=(), dtype=tf.int32, name=None)>"
            ]
          },
          "metadata": {},
          "execution_count": 2
        }
      ]
    },
    {
      "cell_type": "code",
      "source": [
        "for sales in tf_dataset:\n",
        "    print(sales.numpy())"
      ],
      "metadata": {
        "colab": {
          "base_uri": "https://localhost:8080/"
        },
        "id": "zSZwhPzxK6UA",
        "outputId": "3a2ffebd-7c4e-43ce-defe-778e902abf95"
      },
      "execution_count": 3,
      "outputs": [
        {
          "output_type": "stream",
          "name": "stdout",
          "text": [
            "21\n",
            "22\n",
            "-108\n",
            "31\n",
            "-1\n",
            "32\n",
            "34\n",
            "31\n"
          ]
        }
      ]
    },
    {
      "cell_type": "code",
      "source": [
        "for sales in tf_dataset.as_numpy_iterator():\n",
        "    print(sales)"
      ],
      "metadata": {
        "colab": {
          "base_uri": "https://localhost:8080/"
        },
        "id": "6RCvetZFK-FQ",
        "outputId": "708d6d2b-09f2-4ae4-cb6b-44cfed9d7a28"
      },
      "execution_count": 4,
      "outputs": [
        {
          "output_type": "stream",
          "name": "stdout",
          "text": [
            "21\n",
            "22\n",
            "-108\n",
            "31\n",
            "-1\n",
            "32\n",
            "34\n",
            "31\n"
          ]
        }
      ]
    },
    {
      "cell_type": "code",
      "source": [
        "tf_dataset = tf_dataset.filter(lambda x: x>0)\n",
        "for sales in tf_dataset.as_numpy_iterator():\n",
        "    print(sales)"
      ],
      "metadata": {
        "colab": {
          "base_uri": "https://localhost:8080/"
        },
        "id": "0t0FrQv0LDTR",
        "outputId": "50138b7f-9f45-437f-fe39-159029571334"
      },
      "execution_count": 5,
      "outputs": [
        {
          "output_type": "stream",
          "name": "stdout",
          "text": [
            "21\n",
            "22\n",
            "31\n",
            "32\n",
            "34\n",
            "31\n"
          ]
        }
      ]
    },
    {
      "cell_type": "code",
      "source": [
        "tf_dataset = tf_dataset.map(lambda x: x*72)\n",
        "for sales in tf_dataset.as_numpy_iterator():\n",
        "    print(sales)"
      ],
      "metadata": {
        "colab": {
          "base_uri": "https://localhost:8080/"
        },
        "id": "TTQ0GM-bLKU2",
        "outputId": "4c4e06f5-be75-40b4-95d1-5de375b6be39"
      },
      "execution_count": 6,
      "outputs": [
        {
          "output_type": "stream",
          "name": "stdout",
          "text": [
            "1512\n",
            "1584\n",
            "2232\n",
            "2304\n",
            "2448\n",
            "2232\n"
          ]
        }
      ]
    },
    {
      "cell_type": "code",
      "source": [
        "tf_dataset = tf_dataset.shuffle(2)\n",
        "for sales in tf_dataset.as_numpy_iterator():\n",
        "    print(sales)"
      ],
      "metadata": {
        "colab": {
          "base_uri": "https://localhost:8080/"
        },
        "id": "HfgpEOdFLLrY",
        "outputId": "61b282a1-e0f6-49af-da91-f377633a1bfe"
      },
      "execution_count": 7,
      "outputs": [
        {
          "output_type": "stream",
          "name": "stdout",
          "text": [
            "1584\n",
            "2232\n",
            "2304\n",
            "1512\n",
            "2448\n",
            "2232\n"
          ]
        }
      ]
    },
    {
      "cell_type": "code",
      "source": [
        "for sales_batch in tf_dataset.batch(2):\n",
        "    print(sales_batch.numpy())"
      ],
      "metadata": {
        "colab": {
          "base_uri": "https://localhost:8080/"
        },
        "id": "vij3doVSLQ6A",
        "outputId": "770e121c-7277-4ad3-eac2-582728d71d36"
      },
      "execution_count": 8,
      "outputs": [
        {
          "output_type": "stream",
          "name": "stdout",
          "text": [
            "[1512 2232]\n",
            "[1584 2304]\n",
            "[2448 2232]\n"
          ]
        }
      ]
    },
    {
      "cell_type": "code",
      "source": [
        "tf_dataset = tf.data.Dataset.from_tensor_slices(daily_sales_numbers)\n",
        "\n",
        "tf_dataset = tf_dataset.filter(lambda x: x>0).map(lambda y: y*72).shuffle(2).batch(2)\n",
        "for sales in tf_dataset.as_numpy_iterator():\n",
        "    print(sales)"
      ],
      "metadata": {
        "colab": {
          "base_uri": "https://localhost:8080/"
        },
        "id": "Q02YiOF_LTp_",
        "outputId": "67346c37-70dd-4055-a6e7-1262c278007f"
      },
      "execution_count": 9,
      "outputs": [
        {
          "output_type": "stream",
          "name": "stdout",
          "text": [
            "[1512 1584]\n",
            "[2304 2448]\n",
            "[2232 2232]\n"
          ]
        }
      ]
    },
    {
      "cell_type": "code",
      "source": [
        "images_ds = tf.data.Dataset.list_files('images/*/*', shuffle=False)\n",
        "image_count = len(images_ds)\n",
        "image_count"
      ],
      "metadata": {
        "colab": {
          "base_uri": "https://localhost:8080/"
        },
        "id": "7z7DoXIsLXKW",
        "outputId": "a008bbcb-01b5-4a5a-81d6-d566169b3dd9"
      },
      "execution_count": 12,
      "outputs": [
        {
          "output_type": "execute_result",
          "data": {
            "text/plain": [
              "3"
            ]
          },
          "metadata": {},
          "execution_count": 12
        }
      ]
    }
  ]
}